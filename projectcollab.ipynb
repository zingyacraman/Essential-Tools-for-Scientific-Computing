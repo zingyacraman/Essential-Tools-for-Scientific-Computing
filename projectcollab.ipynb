{
  "nbformat": 4,
  "nbformat_minor": 0,
  "metadata": {
    "colab": {
      "provenance": []
    },
    "kernelspec": {
      "name": "python3",
      "display_name": "Python 3"
    },
    "language_info": {
      "name": "python"
    }
  },
  "cells": [
    {
      "cell_type": "code",
      "source": [
        "import numpy as np\n",
        "\n",
        "# Constants and grid parameters\n",
        "nx, ny = 5, 5\n",
        "dx, dy = 1.0, 1.0\n",
        "T = np.zeros((nx, ny))\n",
        "\n",
        "# Boundary conditions\n",
        "T[:, 0] = 100\n",
        "T[:, 4] = 50\n",
        "T[0, 1:4] = 10\n",
        "T[4, 1:4] = 10\n",
        "\n",
        "# Define the source term\n",
        "def source_term(x, y):\n",
        "    return np.sin(x + y)\n",
        "\n",
        "# Iteratively solve for T using the finite difference method\n",
        "for iteration in range(1000):\n",
        "    T_new = T.copy()\n",
        "    for i in range(1, nx - 1):\n",
        "        for j in range(1, ny - 1):\n",
        "            T_new[i, j] = (T[i + 1, j] + T[i - 1, j] + T[i, j + 1] + T[i, j - 1] - dx**2 * source_term(i, j)) / 4\n",
        "    T = T_new\n",
        "\n",
        "# Print the resulting temperature matrix\n",
        "print(T)\n"
      ],
      "metadata": {
        "colab": {
          "base_uri": "https://localhost:8080/"
        },
        "id": "5LhliduVid7e",
        "outputId": "8550493f-1046-4140-d3ca-8a05f22ac772"
      },
      "execution_count": null,
      "outputs": [
        {
          "output_type": "stream",
          "name": "stdout",
          "text": [
            "[[100.          10.          10.          10.          50.        ]\n",
            " [100.          51.2785875   34.52968085  33.93777123  50.        ]\n",
            " [100.          61.49396657  43.04348469  40.46460157  50.        ]\n",
            " [100.          51.79491409  34.92888729  33.91822609  50.        ]\n",
            " [100.          10.          10.          10.          50.        ]]\n"
          ]
        }
      ]
    }
  ]
}