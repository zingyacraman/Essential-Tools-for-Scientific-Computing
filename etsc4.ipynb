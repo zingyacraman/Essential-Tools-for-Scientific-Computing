{
  "nbformat": 4,
  "nbformat_minor": 0,
  "metadata": {
    "colab": {
      "provenance": []
    },
    "kernelspec": {
      "name": "python3",
      "display_name": "Python 3"
    },
    "language_info": {
      "name": "python"
    }
  },
  "cells": [
    {
      "cell_type": "code",
      "execution_count": null,
      "metadata": {
        "colab": {
          "base_uri": "https://localhost:8080/"
        },
        "id": "EXK2WqfF4qi_",
        "outputId": "15ed91e7-9840-479f-e287-ebf65ed9b33b"
      },
      "outputs": [
        {
          "output_type": "stream",
          "name": "stdout",
          "text": [
            "['Joseph', 'Glenn', 'Sally']\n",
            "['socks', 'shirt', 'perfume']\n",
            "\n",
            "\n"
          ]
        }
      ],
      "source": [
        "#from math import *\n",
        "##import numpy as np\n",
        "#import pandas as pd\n",
        "#import matplotlib.pyplot as plt\n",
        "#from IPython.display import Image\n",
        "#from scipy import *\n",
        "\n",
        "\n",
        "friends= (['Joseph','Glenn', 'Sally'])\n",
        "carryon= (['socks', 'shirt', 'perfume'])\n",
        "print (friends)\n",
        "print (carryon)\n",
        "print('\\n')"
      ]
    },
    {
      "cell_type": "code",
      "source": [
        "x=2\n",
        "x=\"hello\"\n",
        "x=4\n",
        "print (x)\n",
        "print('\\n')"
      ],
      "metadata": {
        "colab": {
          "base_uri": "https://localhost:8080/"
        },
        "id": "D8jBikcKKgqF",
        "outputId": "92ae07f2-973e-4e97-f701-a851f37de591"
      },
      "execution_count": null,
      "outputs": [
        {
          "output_type": "stream",
          "name": "stdout",
          "text": [
            "4\n",
            "\n",
            "\n"
          ]
        }
      ]
    },
    {
      "cell_type": "code",
      "source": [
        "print([24,76])\n",
        "print (['red','yellow','blue'])\n",
        "print (['red',24,98.6])\n",
        "print ([1,[5,6],7])\n",
        "print([],'\\n')"
      ],
      "metadata": {
        "colab": {
          "base_uri": "https://localhost:8080/"
        },
        "id": "dpsQzSI1KZSC",
        "outputId": "505b619e-76fb-4c30-f0cb-4cf412698ff1"
      },
      "execution_count": null,
      "outputs": [
        {
          "output_type": "stream",
          "name": "stdout",
          "text": [
            "[24, 76]\n",
            "['red', 'yellow', 'blue']\n",
            "['red', 24, 98.6]\n",
            "[1, [5, 6], 7]\n",
            "[] \n",
            "\n"
          ]
        }
      ]
    },
    {
      "cell_type": "code",
      "source": [
        "for i in [5,4,3,2,1]:\n",
        "  print (i)\n",
        "print ('Blastoff!\\n')"
      ],
      "metadata": {
        "colab": {
          "base_uri": "https://localhost:8080/"
        },
        "id": "T0tOajEOKVLw",
        "outputId": "8d2ecfc9-5ca6-4b95-efda-cc5455b54646"
      },
      "execution_count": null,
      "outputs": [
        {
          "output_type": "stream",
          "name": "stdout",
          "text": [
            "5\n",
            "4\n",
            "3\n",
            "2\n",
            "1\n",
            "Blastoff!\n",
            "\n"
          ]
        }
      ]
    },
    {
      "cell_type": "code",
      "source": [
        "for friend in friends:\n",
        "  print ('Happy New Year: ', friend)\n",
        "print ('Done!\\n')\n",
        "\n",
        "print (friends[1])\n",
        "print('\\n')"
      ],
      "metadata": {
        "colab": {
          "base_uri": "https://localhost:8080/"
        },
        "id": "VXfomZpNKRqV",
        "outputId": "dd868801-a013-40f0-b4d4-3e8fdb650ff3"
      },
      "execution_count": null,
      "outputs": [
        {
          "output_type": "stream",
          "name": "stdout",
          "text": [
            "Happy New Year:  Joseph\n",
            "Happy New Year:  Glenn\n",
            "Happy New Year:  Sally\n",
            "Done!\n",
            "\n",
            "Glenn\n",
            "\n",
            "\n"
          ]
        }
      ]
    },
    {
      "cell_type": "code",
      "source": [
        "fruit='Banana'\n",
        "#fruit[0]='b' #TypeError: 'str' object does not support item assignment\n",
        "print (fruit)\n",
        "x=fruit.lower()\n",
        "print (x)\n",
        "print('\\n')"
      ],
      "metadata": {
        "colab": {
          "base_uri": "https://localhost:8080/"
        },
        "id": "qCDZXU20KOaQ",
        "outputId": "7cdfb9da-d699-414d-d70d-6ed9df6f579f"
      },
      "execution_count": null,
      "outputs": [
        {
          "output_type": "stream",
          "name": "stdout",
          "text": [
            "Banana\n",
            "banana\n",
            "\n",
            "\n"
          ]
        }
      ]
    },
    {
      "cell_type": "code",
      "source": [
        "lotto=[2,14,26,41,63]\n",
        "print (lotto)\n",
        "lotto[2]=28\n",
        "print (lotto)\n",
        "print('\\n')"
      ],
      "metadata": {
        "colab": {
          "base_uri": "https://localhost:8080/"
        },
        "id": "m4UO4NdxKJiD",
        "outputId": "1e49977b-7a16-4a27-e0ac-d34a35f28344"
      },
      "execution_count": null,
      "outputs": [
        {
          "output_type": "stream",
          "name": "stdout",
          "text": [
            "[2, 14, 26, 41, 63]\n",
            "[2, 14, 28, 41, 63]\n",
            "\n",
            "\n"
          ]
        }
      ]
    },
    {
      "cell_type": "code",
      "source": [
        "lotto.append(\"Zaf\") #add to list\n",
        "#lotto[5]='add' can't add an element to a list without appending\n",
        "lotto[4]='Temper'\n",
        "#lotto[4]=600\n",
        "print (lotto)\n",
        "print('\\n')"
      ],
      "metadata": {
        "colab": {
          "base_uri": "https://localhost:8080/"
        },
        "id": "ps8FxO5NKFMI",
        "outputId": "6a1eb14f-6b94-4a0d-bbd0-6764d5e48b73"
      },
      "execution_count": null,
      "outputs": [
        {
          "output_type": "stream",
          "name": "stdout",
          "text": [
            "[2, 14, 28, 41, 'Temper', 'Zaf']\n",
            "\n",
            "\n"
          ]
        }
      ]
    },
    {
      "cell_type": "code",
      "source": [
        "greet='Hello Bob'\n",
        "print (len(greet))\n",
        "print('\\n')"
      ],
      "metadata": {
        "colab": {
          "base_uri": "https://localhost:8080/"
        },
        "id": "1aKeD1LVKAj0",
        "outputId": "4e031b8d-b1bc-499c-8e93-40c179b550e1"
      },
      "execution_count": null,
      "outputs": [
        {
          "output_type": "stream",
          "name": "stdout",
          "text": [
            "9\n",
            "\n",
            "\n"
          ]
        }
      ]
    },
    {
      "cell_type": "code",
      "source": [
        "y=[1,2,'joe',99]\n",
        "print (len(y))\n",
        "print('\\n')"
      ],
      "metadata": {
        "colab": {
          "base_uri": "https://localhost:8080/"
        },
        "id": "XAVKRPKjJ7q8",
        "outputId": "9f09385f-1722-462d-bac7-b4b1e844ca0e"
      },
      "execution_count": null,
      "outputs": [
        {
          "output_type": "stream",
          "name": "stdout",
          "text": [
            "4\n",
            "\n",
            "\n"
          ]
        }
      ]
    },
    {
      "cell_type": "code",
      "source": [
        "print(range(4))\n",
        "print('\\n')"
      ],
      "metadata": {
        "colab": {
          "base_uri": "https://localhost:8080/"
        },
        "id": "01NXYxXTJ4ot",
        "outputId": "a415d0ac-09d3-4efd-b581-56ad11257114"
      },
      "execution_count": null,
      "outputs": [
        {
          "output_type": "stream",
          "name": "stdout",
          "text": [
            "range(0, 4)\n",
            "\n",
            "\n"
          ]
        }
      ]
    },
    {
      "cell_type": "code",
      "source": [
        "for j in range(len(friends)):\n",
        "  friend=friends[j]\n",
        "  print ('Happy New Year: ',friend)\n",
        "print('\\n')"
      ],
      "metadata": {
        "colab": {
          "base_uri": "https://localhost:8080/"
        },
        "id": "DRIt_tAZJ1mV",
        "outputId": "aa60916b-5d0d-4b13-9989-5401e09bd6ca"
      },
      "execution_count": null,
      "outputs": [
        {
          "output_type": "stream",
          "name": "stdout",
          "text": [
            "Happy New Year:  Joseph\n",
            "Happy New Year:  Glenn\n",
            "Happy New Year:  Sally\n",
            "\n",
            "\n"
          ]
        }
      ]
    },
    {
      "cell_type": "code",
      "source": [
        "a=[1,2,3]\n",
        "b=[4,5,6]\n",
        "c=a+b\n",
        "print(c)\n",
        "d=[7,8]\n",
        "e=d+c\n",
        "print(e)"
      ],
      "metadata": {
        "colab": {
          "base_uri": "https://localhost:8080/"
        },
        "id": "1F6AZ4nXJwQ3",
        "outputId": "61bb62b8-7e77-41f4-d475-1ae778a17396"
      },
      "execution_count": null,
      "outputs": [
        {
          "output_type": "stream",
          "name": "stdout",
          "text": [
            "[1, 2, 3, 4, 5, 6]\n",
            "[7, 8, 1, 2, 3, 4, 5, 6]\n"
          ]
        }
      ]
    },
    {
      "cell_type": "code",
      "source": [
        "t=[9,41,12,3,74,15,56]\n",
        "print(t[1:3])\n",
        "print(t[:4])\n",
        "print(t[1:3])\n",
        "print(t[:])\n",
        "t[::2]\n",
        "print(t[:1:])"
      ],
      "metadata": {
        "colab": {
          "base_uri": "https://localhost:8080/"
        },
        "id": "W-Yl-d5wCxi-",
        "outputId": "f76ff55c-5e17-4b31-ac24-f8ad91dd0a3b"
      },
      "execution_count": null,
      "outputs": [
        {
          "output_type": "stream",
          "name": "stdout",
          "text": [
            "[41, 12]\n",
            "[9, 41, 12, 3]\n",
            "[41, 12]\n",
            "[9, 41, 12, 3, 74, 15, 56]\n",
            "[9]\n"
          ]
        }
      ]
    },
    {
      "cell_type": "code",
      "source": [
        "x=[1,2,3]\n",
        "type(x)\n",
        "dir(x)"
      ],
      "metadata": {
        "colab": {
          "base_uri": "https://localhost:8080/"
        },
        "id": "ZSbh1RYMETGd",
        "outputId": "decbe5de-e3f8-47a1-c317-e0608db49dc6"
      },
      "execution_count": null,
      "outputs": [
        {
          "output_type": "execute_result",
          "data": {
            "text/plain": [
              "['__add__',\n",
              " '__class__',\n",
              " '__class_getitem__',\n",
              " '__contains__',\n",
              " '__delattr__',\n",
              " '__delitem__',\n",
              " '__dir__',\n",
              " '__doc__',\n",
              " '__eq__',\n",
              " '__format__',\n",
              " '__ge__',\n",
              " '__getattribute__',\n",
              " '__getitem__',\n",
              " '__gt__',\n",
              " '__hash__',\n",
              " '__iadd__',\n",
              " '__imul__',\n",
              " '__init__',\n",
              " '__init_subclass__',\n",
              " '__iter__',\n",
              " '__le__',\n",
              " '__len__',\n",
              " '__lt__',\n",
              " '__mul__',\n",
              " '__ne__',\n",
              " '__new__',\n",
              " '__reduce__',\n",
              " '__reduce_ex__',\n",
              " '__repr__',\n",
              " '__reversed__',\n",
              " '__rmul__',\n",
              " '__setattr__',\n",
              " '__setitem__',\n",
              " '__sizeof__',\n",
              " '__str__',\n",
              " '__subclasshook__',\n",
              " 'append',\n",
              " 'clear',\n",
              " 'copy',\n",
              " 'count',\n",
              " 'extend',\n",
              " 'index',\n",
              " 'insert',\n",
              " 'pop',\n",
              " 'remove',\n",
              " 'reverse',\n",
              " 'sort']"
            ]
          },
          "metadata": {},
          "execution_count": 50
        }
      ]
    },
    {
      "cell_type": "code",
      "source": [
        "stuff=list()\n",
        "print(stuff)\n",
        "stuff.append('book')\n",
        "print(stuff)\n",
        "stuff.append(99)\n",
        "print(stuff)\n",
        "stuff.append('cookie')\n",
        "print(stuff)\n",
        "stuff.remove(99)\n",
        "print(stuff)"
      ],
      "metadata": {
        "colab": {
          "base_uri": "https://localhost:8080/"
        },
        "id": "-1AIFsw7FBc1",
        "outputId": "3499f5fb-5598-4923-de65-4911d6495c94"
      },
      "execution_count": null,
      "outputs": [
        {
          "output_type": "stream",
          "name": "stdout",
          "text": [
            "[]\n",
            "['book']\n",
            "['book', 99]\n",
            "['book', 99, 'cookie']\n",
            "['book', 'cookie']\n"
          ]
        }
      ]
    },
    {
      "cell_type": "code",
      "source": [
        "some=[1,5,7,12,'etdc',34]\n",
        "print(9 in some)\n",
        "print(5 in some)"
      ],
      "metadata": {
        "colab": {
          "base_uri": "https://localhost:8080/"
        },
        "id": "Rprzn6N4Fzzc",
        "outputId": "5f54ef6a-31fc-4f8c-da2d-3d1dd74e0f76"
      },
      "execution_count": null,
      "outputs": [
        {
          "output_type": "stream",
          "name": "stdout",
          "text": [
            "False\n",
            "True\n"
          ]
        }
      ]
    },
    {
      "cell_type": "code",
      "source": [
        "5 in some"
      ],
      "metadata": {
        "colab": {
          "base_uri": "https://localhost:8080/"
        },
        "id": "L5rxZwM4GOYX",
        "outputId": "c0c8aab2-f5b5-46a6-b989-41a70b6c3b46"
      },
      "execution_count": null,
      "outputs": [
        {
          "output_type": "execute_result",
          "data": {
            "text/plain": [
              "True"
            ]
          },
          "metadata": {},
          "execution_count": 58
        }
      ]
    },
    {
      "cell_type": "code",
      "source": [
        "13 not in some"
      ],
      "metadata": {
        "colab": {
          "base_uri": "https://localhost:8080/"
        },
        "id": "3a9RhB8RGP1T",
        "outputId": "99fd0ecb-36b5-43f1-a94d-42ea3422ba93"
      },
      "execution_count": null,
      "outputs": [
        {
          "output_type": "execute_result",
          "data": {
            "text/plain": [
              "True"
            ]
          },
          "metadata": {},
          "execution_count": 57
        }
      ]
    },
    {
      "cell_type": "code",
      "source": [
        "'etdc' in some"
      ],
      "metadata": {
        "colab": {
          "base_uri": "https://localhost:8080/"
        },
        "id": "gsuDXa86APg5",
        "outputId": "7113b25f-184b-4605-cf7c-5ebaae6674c8"
      },
      "execution_count": null,
      "outputs": [
        {
          "output_type": "execute_result",
          "data": {
            "text/plain": [
              "True"
            ]
          },
          "metadata": {},
          "execution_count": 60
        }
      ]
    },
    {
      "cell_type": "code",
      "source": [
        "'etdc' not in some"
      ],
      "metadata": {
        "colab": {
          "base_uri": "https://localhost:8080/"
        },
        "id": "cAYwt6ugGddF",
        "outputId": "b1dd6f53-f23e-42ac-ae9f-23dc97668c4d"
      },
      "execution_count": null,
      "outputs": [
        {
          "output_type": "execute_result",
          "data": {
            "text/plain": [
              "False"
            ]
          },
          "metadata": {},
          "execution_count": 61
        }
      ]
    },
    {
      "cell_type": "code",
      "source": [
        "friends.sort()\n",
        "print(friends)\n",
        "print(friends[0])\n",
        "\n",
        "x=[34,2,4,5,7,543]\n",
        "x.sort()\n",
        "print(x)\n",
        "\n",
        "#lol=[3,4,'joy']   '<' not supported between instances of 'str' and 'int' (works for the same datatype only)\n",
        "#lol.sort()\n",
        "#print(lol)\n",
        "\n"
      ],
      "metadata": {
        "colab": {
          "base_uri": "https://localhost:8080/"
        },
        "id": "dV6sNichHDJv",
        "outputId": "6917511e-3243-4354-c78c-bfe9186e510f"
      },
      "execution_count": null,
      "outputs": [
        {
          "output_type": "stream",
          "name": "stdout",
          "text": [
            "['Glenn', 'Joseph', 'Sally']\n",
            "Glenn\n",
            "[2, 4, 5, 7, 34, 543]\n"
          ]
        }
      ]
    },
    {
      "cell_type": "code",
      "source": [
        "nums=[3,41,12,9,74,15]\n",
        "print(len(nums))\n",
        "print(max(nums))\n",
        "print(min(nums))\n",
        "print(sum(nums))\n",
        "print(sum(nums)/len(nums))"
      ],
      "metadata": {
        "colab": {
          "base_uri": "https://localhost:8080/"
        },
        "id": "ix1Xxt7qIPfc",
        "outputId": "637e2865-b463-4aaf-9d0b-41b8522636b3"
      },
      "execution_count": null,
      "outputs": [
        {
          "output_type": "stream",
          "name": "stdout",
          "text": [
            "6\n",
            "74\n",
            "3\n",
            "154\n",
            "25.666666666666668\n"
          ]
        }
      ]
    },
    {
      "cell_type": "code",
      "source": [
        "abc='With three words'\n",
        "stuff=abc.split()\n",
        "print(stuff)\n",
        "\n",
        "print(len(stuff))\n",
        "\n",
        "print(stuff[0])"
      ],
      "metadata": {
        "colab": {
          "base_uri": "https://localhost:8080/"
        },
        "id": "jHCbDnD1KoOp",
        "outputId": "6647cbba-c142-4406-bc85-54dc48e169c9"
      },
      "execution_count": null,
      "outputs": [
        {
          "output_type": "stream",
          "name": "stdout",
          "text": [
            "['With', 'three', 'words']\n",
            "3\n",
            "With\n"
          ]
        }
      ]
    },
    {
      "cell_type": "code",
      "source": [
        "m='zingyacraman@gmail.com'\n",
        "s=m.split('@')\n",
        "print(s)"
      ],
      "metadata": {
        "colab": {
          "base_uri": "https://localhost:8080/"
        },
        "id": "pzPbNB7YMGh_",
        "outputId": "6264f92f-6e5c-4e66-8334-cd25e3edc46c"
      },
      "execution_count": null,
      "outputs": [
        {
          "output_type": "stream",
          "name": "stdout",
          "text": [
            "['zingyacraman', 'gmail.com']\n"
          ]
        }
      ]
    },
    {
      "cell_type": "code",
      "source": [
        "line='A lot           of spaces'\n",
        "etc=line.split()\n",
        "print(etc)\n"
      ],
      "metadata": {
        "colab": {
          "base_uri": "https://localhost:8080/"
        },
        "id": "bZAHctgoMdG8",
        "outputId": "b2a4cb84-4ee5-49eb-eace-0df504d82305"
      },
      "execution_count": null,
      "outputs": [
        {
          "output_type": "stream",
          "name": "stdout",
          "text": [
            "['A', 'lot', 'of', 'spaces']\n"
          ]
        }
      ]
    },
    {
      "cell_type": "code",
      "source": [
        "line='first;second;third'\n",
        "thing=line.split()\n",
        "print(thing)\n",
        "print(len(thing))"
      ],
      "metadata": {
        "colab": {
          "base_uri": "https://localhost:8080/"
        },
        "id": "X4VyYGr4MnP8",
        "outputId": "0505fed2-0401-4a39-c090-9bb1665a3152"
      },
      "execution_count": null,
      "outputs": [
        {
          "output_type": "stream",
          "name": "stdout",
          "text": [
            "['first;second;third']\n",
            "1\n"
          ]
        }
      ]
    },
    {
      "cell_type": "code",
      "source": [
        "thing=line.split(';')\n",
        "print(thing)\n",
        "print(len(thing))"
      ],
      "metadata": {
        "colab": {
          "base_uri": "https://localhost:8080/"
        },
        "id": "iYGmPtZkM2Bn",
        "outputId": "6984dc57-ec7b-4929-e264-7e8fdd576197"
      },
      "execution_count": null,
      "outputs": [
        {
          "output_type": "stream",
          "name": "stdout",
          "text": [
            "['first', 'second', 'third']\n",
            "3\n"
          ]
        }
      ]
    }
  ]
}