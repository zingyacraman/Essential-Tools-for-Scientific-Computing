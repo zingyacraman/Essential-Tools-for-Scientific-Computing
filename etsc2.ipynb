{
  "nbformat": 4,
  "nbformat_minor": 0,
  "metadata": {
    "colab": {
      "provenance": []
    },
    "kernelspec": {
      "name": "python3",
      "display_name": "Python 3"
    },
    "language_info": {
      "name": "python"
    }
  },
  "cells": [
    {
      "cell_type": "code",
      "execution_count": null,
      "metadata": {
        "colab": {
          "base_uri": "https://localhost:8080/"
        },
        "id": "Z4IJnmGB4dM3",
        "outputId": "79d3a707-896c-413f-db17-1f9e7cc3416c"
      },
      "outputs": [
        {
          "output_type": "stream",
          "name": "stdout",
          "text": [
            "Hi Again\n"
          ]
        }
      ],
      "source": [
        "# 3. Begin\n",
        "print ('Hi Again')"
      ]
    },
    {
      "cell_type": "code",
      "source": [
        "# 2. String Manipulation\n",
        "s=\"Hello\"\n",
        "print (s)\n",
        "print (s[0])\n",
        "print (s[0],s[1],s[2],s[3],s[4])\n",
        "print (s[0],s[1],s[2],s[-2],s[-1])\n",
        "print (s[0],s[1],s[2],s[-2],s[-1],len(s))\n",
        "n= 'Z C R'\n",
        "print (n[0],n[1],n[2],n[-2],n[-1],len(n))\n",
        "print (n+\" World\" + \", I am Zingya\")"
      ],
      "metadata": {
        "colab": {
          "base_uri": "https://localhost:8080/"
        },
        "id": "cQatiU_W4qGR",
        "outputId": "8392bcc1-a146-44ed-eb12-e39357e2138b"
      },
      "execution_count": null,
      "outputs": [
        {
          "output_type": "stream",
          "name": "stdout",
          "text": [
            "Hello\n",
            "H\n",
            "H e l l o\n",
            "H e l l o\n",
            "H e l l o 5\n",
            "Z   C   R 5\n",
            "Z C R World, I am Zingya\n"
          ]
        }
      ]
    },
    {
      "cell_type": "code",
      "source": [
        "# 3. String is immutable\n",
        "s='Hello'\n",
        "print (s)\n",
        "type (s)\n",
        "#s[1]='b' #won't work"
      ],
      "metadata": {
        "colab": {
          "base_uri": "https://localhost:8080/"
        },
        "id": "SYXZTjy565vV",
        "outputId": "1cafcb1d-3880-42a9-8168-16ecc07a8f10"
      },
      "execution_count": null,
      "outputs": [
        {
          "output_type": "stream",
          "name": "stdout",
          "text": [
            "Hello\n"
          ]
        },
        {
          "output_type": "execute_result",
          "data": {
            "text/plain": [
              "str"
            ]
          },
          "metadata": {},
          "execution_count": 17
        }
      ]
    },
    {
      "cell_type": "code",
      "source": [
        "# 4. Strings andn Intergers\n",
        "s='Hello'\n",
        "num=10\n",
        "print(num)\n",
        "#print(s+num) #error\n",
        "print(s+str(num))"
      ],
      "metadata": {
        "colab": {
          "base_uri": "https://localhost:8080/"
        },
        "id": "WYiwAk9b7rYK",
        "outputId": "70b7627d-b057-4ddc-f5ff-7c128e93689c"
      },
      "execution_count": null,
      "outputs": [
        {
          "output_type": "stream",
          "name": "stdout",
          "text": [
            "10\n",
            "Hello10\n"
          ]
        }
      ]
    },
    {
      "cell_type": "code",
      "source": [
        "# 5. String Methods\n",
        "s='hello Zingya C Raman'\n",
        "print (s)\n",
        "print (str.lower(s))\n",
        "print (str.upper(s))\n",
        "print (str.strip(s))\n",
        "print (str.isalpha(s))\n",
        "print (str.isdigit(s))\n",
        "print (str.isalnum(s))\n",
        "print (str.isspace(s))\n",
        "#print (s.replace(s,'Old'))\n",
        "print ('\\n')\n",
        "n='Hii'\n",
        "print (n)\n",
        "print (n.lower())\n",
        "print (n.upper())\n",
        "print (n.strip())\n",
        "print (n.isalpha())\n",
        "print (n.isdigit())\n",
        "print (n.isalnum())\n",
        "print (n.isspace())"
      ],
      "metadata": {
        "colab": {
          "base_uri": "https://localhost:8080/"
        },
        "id": "QKcVBY858yhR",
        "outputId": "1da5a76a-4b51-4ca2-a9ff-046154e0dd0a"
      },
      "execution_count": null,
      "outputs": [
        {
          "output_type": "stream",
          "name": "stdout",
          "text": [
            "hello Zingya C Raman\n",
            "hello zingya c raman\n",
            "HELLO ZINGYA C RAMAN\n",
            "hello Zingya C Raman\n",
            "False\n",
            "False\n",
            "False\n",
            "False\n",
            "\n",
            "\n",
            "Hii\n",
            "hii\n",
            "HII\n",
            "Hii\n",
            "True\n",
            "False\n",
            "True\n",
            "False\n"
          ]
        }
      ]
    },
    {
      "cell_type": "code",
      "source": [
        "# 6.\n",
        "s=\"Hello\"\n",
        "print (s[1:3])\n",
        "print ('\\n')\n",
        "print (s[1:])\n",
        "print ('\\n')\n",
        "print (s[-4:3])"
      ],
      "metadata": {
        "colab": {
          "base_uri": "https://localhost:8080/"
        },
        "id": "VdivvL-8_8Qn",
        "outputId": "c047d694-b008-4b26-da0b-d13835fca6f5"
      },
      "execution_count": null,
      "outputs": [
        {
          "output_type": "stream",
          "name": "stdout",
          "text": [
            "el\n",
            "\n",
            "\n",
            "ello\n",
            "\n",
            "\n",
            "el\n"
          ]
        }
      ]
    },
    {
      "cell_type": "code",
      "source": [
        "# String Formatting\n",
        "str1='Hello %s, %d' %('World',10)\n",
        "print (str1)\n",
        "str2='Hello {}, {}'.format('world',10)\n",
        "print (str2)\n",
        "str3= 'Hello {wd}, {num}'.format(num=10,wd='World')\n",
        "print (str3)\n",
        "str4= 'Hello {wd:10}, {num:.3f}'.format(num=10.0, wd='World')\n",
        "print (str4)"
      ],
      "metadata": {
        "colab": {
          "base_uri": "https://localhost:8080/"
        },
        "id": "O9qz8OsQBlF_",
        "outputId": "084de772-67d2-4814-8b1c-ebb2725e97f6"
      },
      "execution_count": null,
      "outputs": [
        {
          "output_type": "stream",
          "name": "stdout",
          "text": [
            "Hello World, 10\n",
            "Hello world, 10\n",
            "Hello World, 10\n",
            "Hello World     , 10.000\n"
          ]
        }
      ]
    },
    {
      "cell_type": "code",
      "source": [
        "# If statements\n",
        "num=40\n",
        "if num<5:\n",
        "  print ('num is smaller than 5')\n",
        "if num>5:\n",
        "  print ('num is greater than 5')\n",
        "elif num ==5:\n",
        "  print ('num is 5')\n",
        "else:\n",
        "  print ('num is smaller than 5')"
      ],
      "metadata": {
        "colab": {
          "base_uri": "https://localhost:8080/"
        },
        "id": "cp6sjZRtC0gn",
        "outputId": "48f0a79c-5c03-462f-e19b-6011c15038e8"
      },
      "execution_count": null,
      "outputs": [
        {
          "output_type": "stream",
          "name": "stdout",
          "text": [
            "num is greater than 5\n"
          ]
        }
      ]
    },
    {
      "cell_type": "code",
      "source": [
        "# Function cells\n",
        "print (type(32))\n",
        "type (32)\n",
        "print (int(32))\n",
        "#int ('Hello')\n",
        "int (-2.3)\n",
        "import math\n",
        "print (math.sin(3.1416))\n",
        "print (math.cos(3.1416))\n",
        "print (math.tan(3.1416))\n",
        "print (math.atan(3.1416))\n",
        "print (math.asin(0.87))\n",
        "print (math.acos(-1))\n",
        "print (math.sqrt(2))\n",
        "print (math.ceil(342.89))\n",
        "print (math.comb(8,2))\n",
        "print (math.copysign(34,-3.2))\n",
        "print (math.degrees(6))\n",
        "#print (math.dist(8,4))\n",
        "print (math.factorial(4))\n",
        "#help ('math')"
      ],
      "metadata": {
        "colab": {
          "base_uri": "https://localhost:8080/"
        },
        "id": "U6fGJ0NFEYQa",
        "outputId": "61aa13b8-acf6-414b-e69d-c7bc6d06229a"
      },
      "execution_count": null,
      "outputs": [
        {
          "output_type": "stream",
          "name": "stdout",
          "text": [
            "<class 'int'>\n",
            "32\n",
            "-7.346410206643587e-06\n",
            "-0.9999999999730151\n",
            "7.346410206841829e-06\n",
            "1.2626279315447793\n",
            "1.0552023205488061\n",
            "3.141592653589793\n",
            "1.4142135623730951\n",
            "343\n",
            "28\n",
            "-34.0\n",
            "343.77467707849394\n",
            "24\n"
          ]
        }
      ]
    },
    {
      "cell_type": "code",
      "source": [
        "# def function_name (parameters): BLOCK\n",
        "def print_name():\n",
        "  print (\"I'm Zingya\")\n",
        "  print (\"I'm from the dept. of AgFE\")\n",
        "print_name()"
      ],
      "metadata": {
        "colab": {
          "base_uri": "https://localhost:8080/"
        },
        "id": "0xlgGxNNH92E",
        "outputId": "48d92a9e-448c-4144-8b46-0ebc442fdb0b"
      },
      "execution_count": null,
      "outputs": [
        {
          "output_type": "stream",
          "name": "stdout",
          "text": [
            "I'm Zingya\n",
            "I'm from the dept. of AgFE\n"
          ]
        }
      ]
    },
    {
      "cell_type": "code",
      "source": [
        "# Function Parameters and arguments\n",
        "def print_twice(arg1):\n",
        "  print(arg1)\n",
        "  print(arg1)\n",
        "print_twice(math.pi)\n",
        "print_twice('Spam'*4)"
      ],
      "metadata": {
        "colab": {
          "base_uri": "https://localhost:8080/"
        },
        "id": "jEQFiIHiIfCN",
        "outputId": "77595677-8f53-49c8-b877-cd032369cff5"
      },
      "execution_count": null,
      "outputs": [
        {
          "output_type": "stream",
          "name": "stdout",
          "text": [
            "3.141592653589793\n",
            "3.141592653589793\n",
            "SpamSpamSpamSpam\n",
            "SpamSpamSpamSpam\n"
          ]
        }
      ]
    },
    {
      "cell_type": "code",
      "source": [
        "# Function Returns\n",
        "def print_twice(arg1):\n",
        "  print(arg1)\n",
        "  print (arg1)\n",
        "result= print_twice('Bing')\n",
        "print(result)"
      ],
      "metadata": {
        "colab": {
          "base_uri": "https://localhost:8080/"
        },
        "id": "5-estjrHJMOJ",
        "outputId": "887d00a8-e211-4bef-8b53-937c6f965c66"
      },
      "execution_count": null,
      "outputs": [
        {
          "output_type": "stream",
          "name": "stdout",
          "text": [
            "Bing\n",
            "Bing\n",
            "None\n"
          ]
        }
      ]
    },
    {
      "cell_type": "code",
      "source": [
        "# Function Returns\n",
        "def print_twice(arg1):\n",
        "  print(arg1)\n",
        "  return arg1*2\n",
        "result= print_twice('Bing')\n",
        "print(result)"
      ],
      "metadata": {
        "colab": {
          "base_uri": "https://localhost:8080/"
        },
        "id": "ZC0JuyMEKj2m",
        "outputId": "da5e5739-6687-4601-f92c-77d06f88aa83"
      },
      "execution_count": null,
      "outputs": [
        {
          "output_type": "stream",
          "name": "stdout",
          "text": [
            "Bing\n",
            "BingBing\n"
          ]
        }
      ]
    },
    {
      "cell_type": "code",
      "source": [
        "# Function Returns\n",
        "def print_twice(arg1,arg2):\n",
        "  #print(arg1)\n",
        "  #return arg1+arg2\n",
        "  return arg1,arg2\n",
        "#result= print_twice('Bing','Zingya')\n",
        "res1,res2= print_twice('Bing','Zingya')\n",
        "#print(result)\n",
        "print(res1)\n",
        "print(res2)"
      ],
      "metadata": {
        "colab": {
          "base_uri": "https://localhost:8080/"
        },
        "id": "wdtHy79wJvzx",
        "outputId": "1fe37932-c97d-44b8-b852-1123eef97d04"
      },
      "execution_count": null,
      "outputs": [
        {
          "output_type": "stream",
          "name": "stdout",
          "text": [
            "Bing\n",
            "Zingya\n"
          ]
        }
      ]
    },
    {
      "cell_type": "code",
      "source": [
        "# Function checking type of arguments: recursive\n",
        "def factorial(n):\n",
        "  if not isinstance(n,int):\n",
        "    print ('Factorial is only defined for Integers')\n",
        "    return None\n",
        "  elif n<0:\n",
        "    print ('Factorial is not defined for negative Integers')\n",
        "    return None\n",
        "  elif n==0:\n",
        "    return 1\n",
        "  else:\n",
        "    return n * factorial(n-1)\n",
        "factorial(4)\n",
        "#factorial (-234)\n",
        "#factorial (32.354)"
      ],
      "metadata": {
        "colab": {
          "base_uri": "https://localhost:8080/"
        },
        "id": "tQPe2iqQKiQk",
        "outputId": "109b1296-0fcf-4992-e599-7a71e5cd2cfd"
      },
      "execution_count": null,
      "outputs": [
        {
          "output_type": "execute_result",
          "data": {
            "text/plain": [
              "24"
            ]
          },
          "metadata": {},
          "execution_count": 113
        }
      ]
    },
    {
      "cell_type": "code",
      "source": [
        "def fact(n):\n",
        "  if not isinstance(n,int):\n",
        "    print ('Factorial is only defined for Integers')\n",
        "    return None\n",
        "  elif n<0:\n",
        "    print ('Factorial is not defined for negative Integers')\n",
        "    return None\n",
        "  elif n==0:\n",
        "    return 1\n",
        "  else:\n",
        "    return factorial(n)\n",
        "fact(3)"
      ],
      "metadata": {
        "colab": {
          "base_uri": "https://localhost:8080/"
        },
        "id": "-spGyRYEN_Fe",
        "outputId": "82026e2f-abea-4f71-b90e-967c8296d302"
      },
      "execution_count": null,
      "outputs": [
        {
          "output_type": "execute_result",
          "data": {
            "text/plain": [
              "6"
            ]
          },
          "metadata": {},
          "execution_count": 116
        }
      ]
    },
    {
      "cell_type": "code",
      "source": [
        "def func1(arg1, arg2=None):\n",
        "  if arg2 is None:\n",
        "    print (arg1)\n",
        "  else:\n",
        "    print (arg1,arg2)\n",
        "func1('hello')\n",
        "func1('hello','world')"
      ],
      "metadata": {
        "colab": {
          "base_uri": "https://localhost:8080/"
        },
        "id": "iXA0O4zUO6p9",
        "outputId": "9af7617b-85a9-4c8a-9ee4-800af89daed8"
      },
      "execution_count": null,
      "outputs": [
        {
          "output_type": "stream",
          "name": "stdout",
          "text": [
            "hello\n",
            "hello world\n"
          ]
        }
      ]
    },
    {
      "cell_type": "code",
      "source": [
        "# Importing with 'from' function\n",
        "from math import pi\n",
        "print (pi)\n",
        "from math import cos\n",
        "print (cos(pi))"
      ],
      "metadata": {
        "colab": {
          "base_uri": "https://localhost:8080/"
        },
        "id": "ZLgR1wlORO9t",
        "outputId": "ad51296f-4a91-41ad-e46b-bab5a6c71eaa"
      },
      "execution_count": null,
      "outputs": [
        {
          "output_type": "stream",
          "name": "stdout",
          "text": [
            "3.141592653589793\n",
            "-1.0\n"
          ]
        }
      ]
    },
    {
      "cell_type": "code",
      "source": [
        "# Global/Local variables\n",
        "global_var=1\n",
        "def func1():\n",
        "  global_var=2\n",
        "  return global_var\n",
        "func1()\n",
        "global_var"
      ],
      "metadata": {
        "colab": {
          "base_uri": "https://localhost:8080/"
        },
        "id": "8lSYlmnNRlSd",
        "outputId": "cb8e1567-5b7f-4b70-9490-1518f7de9958"
      },
      "execution_count": null,
      "outputs": [
        {
          "output_type": "execute_result",
          "data": {
            "text/plain": [
              "1"
            ]
          },
          "metadata": {},
          "execution_count": 140
        }
      ]
    },
    {
      "cell_type": "code",
      "source": [
        "global_var=1\n",
        "def func2():\n",
        "  global global_var\n",
        "  global_var=3\n",
        "  return global_var\n",
        "func2()\n",
        "global_var"
      ],
      "metadata": {
        "colab": {
          "base_uri": "https://localhost:8080/"
        },
        "id": "OTif7e-GTDMY",
        "outputId": "ee87fcfe-2621-4a46-f806-25325ce2bc85"
      },
      "execution_count": null,
      "outputs": [
        {
          "output_type": "execute_result",
          "data": {
            "text/plain": [
              "3"
            ]
          },
          "metadata": {},
          "execution_count": 145
        }
      ]
    },
    {
      "cell_type": "code",
      "source": [
        "# Eg\n",
        "import math\n",
        "a=2;\n",
        "b=5;\n",
        "c=(a**2+b**2)**(0.5);\n",
        "d=math.sqrt(c);\n",
        "f=c*d;\n",
        "g=c/d;\n",
        "h= a*math.sin(b);\n",
        "i= factorial(int(d));\n",
        "print('Hypo c=',c)\n",
        "print('sq root d=',d)\n",
        "print('c*d=',f)\n",
        "print('c/d=',g)\n",
        "e=math.log(d)\n",
        "print('e=',e)\n",
        "print('h=',h)\n",
        "print('i= ',i)"
      ],
      "metadata": {
        "colab": {
          "base_uri": "https://localhost:8080/"
        },
        "id": "Ryh82uXgTe-k",
        "outputId": "712d73f4-185f-4b94-8402-14267a04005f"
      },
      "execution_count": null,
      "outputs": [
        {
          "output_type": "stream",
          "name": "stdout",
          "text": [
            "Hypo c= 5.385164807134504\n",
            "sq root d= 2.320595787106084\n",
            "c*d= 12.496790764308276\n",
            "c/d= 2.3205957871060834\n",
            "e= 0.8418239574966185\n",
            "h= -1.917848549326277\n",
            "i=  2\n"
          ]
        }
      ]
    },
    {
      "cell_type": "code",
      "source": [
        "from scipy import *\n",
        "from numpy import *\n",
        "import numpy as np\n",
        "\n",
        "M1=array([[1,2,3],[3,4,5],[1,2,1]])\n",
        "M2=array([[0,1,2,],[3,4,5],[7,8,2]])\n",
        "M4=array([[1,2,3,4],[0,3,2,1],[2,1,2,4]])\n",
        "M3=M1*M2\n",
        "print('Inverse of M3= \\n', np.linalg.inv(M3))\n",
        "print('Transpose of M3= \\n', M3.T)\n",
        "print('\\n M1= \\n',M1)\n",
        "print('\\n M2= \\n', M2)\n",
        "print('\\n M3= \\n',M3)"
      ],
      "metadata": {
        "colab": {
          "base_uri": "https://localhost:8080/"
        },
        "id": "t1KL9ii7VX5G",
        "outputId": "16a8f4b8-2207-4520-bea8-73200e05137c"
      },
      "execution_count": null,
      "outputs": [
        {
          "output_type": "stream",
          "name": "stdout",
          "text": [
            "Inverse of M3= \n",
            " [[-0.72727273  0.18181818 -0.09090909]\n",
            " [ 0.31027668 -0.08300395  0.10671937]\n",
            " [ 0.06324111  0.02766798 -0.03557312]]\n",
            "Transpose of M3= \n",
            " [[ 0  9  7]\n",
            " [ 2 16 16]\n",
            " [ 6 25  2]]\n",
            "\n",
            " M1= \n",
            " [[1 2 3]\n",
            " [3 4 5]\n",
            " [1 2 1]]\n",
            "\n",
            " M2= \n",
            " [[0 1 2]\n",
            " [3 4 5]\n",
            " [7 8 2]]\n",
            "\n",
            " M3= \n",
            " [[ 0  2  6]\n",
            " [ 9 16 25]\n",
            " [ 7 16  2]]\n"
          ]
        }
      ]
    }
  ]
}