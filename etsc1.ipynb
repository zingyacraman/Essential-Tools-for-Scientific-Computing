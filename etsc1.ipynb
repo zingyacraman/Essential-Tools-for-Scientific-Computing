{
  "nbformat": 4,
  "nbformat_minor": 0,
  "metadata": {
    "colab": {
      "provenance": []
    },
    "kernelspec": {
      "name": "python3",
      "display_name": "Python 3"
    },
    "language_info": {
      "name": "python"
    }
  },
  "cells": [
    {
      "cell_type": "code",
      "execution_count": null,
      "metadata": {
        "colab": {
          "base_uri": "https://localhost:8080/"
        },
        "id": "OYLZ4m1O00g2",
        "outputId": "8adb5d5f-5725-4035-9719-fc6706b84800"
      },
      "outputs": [
        {
          "output_type": "stream",
          "name": "stdout",
          "text": [
            "Hello\n",
            "Zingya C Raman\n",
            "Welcome to ETSC\n"
          ]
        }
      ],
      "source": [
        "print ('Hello')\n",
        "print ('Zingya C Raman')\n",
        "print ('Welcome to ETSC')"
      ]
    },
    {
      "cell_type": "code",
      "source": [
        "# 1. Strings\n",
        "s= 3.14159\n",
        "print (s)\n",
        "type (s)\n",
        "print (type (s))\n",
        "n= 'Hello'\n",
        "print (n)\n",
        "type (n)\n",
        "print (type (n))"
      ],
      "metadata": {
        "id": "Rtuhfa5s2aN0",
        "colab": {
          "base_uri": "https://localhost:8080/"
        },
        "outputId": "695f3769-3720-4d56-d9e6-4efafa08876f"
      },
      "execution_count": null,
      "outputs": [
        {
          "output_type": "stream",
          "name": "stdout",
          "text": [
            "3.14159\n",
            "<class 'float'>\n",
            "Hello\n",
            "<class 'str'>\n"
          ]
        }
      ]
    }
  ]
}